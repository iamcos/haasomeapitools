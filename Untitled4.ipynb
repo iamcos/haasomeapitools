{
 "cells": [
  {
   "cell_type": "code",
   "execution_count": 1,
   "metadata": {},
   "outputs": [],
   "source": [
    "from MadHatterBotClass import MadHatterBot\n",
    "import ipywidgets as widgets\n",
    "from ipywidgets import interact\n",
    "import datetime\n",
    "import dateutil.relativedelta\n",
    "mhb = MadHatterBot()\n",
    "from botdatabase import BotDB"
   ]
  },
  {
   "cell_type": "code",
   "execution_count": 2,
   "metadata": {
    "scrolled": true
   },
   "outputs": [
    {
     "data": {
      "application/vnd.jupyter.widget-view+json": {
       "model_id": "3fed7529b5ca4b3ba18f9b1be3cdeeee",
       "version_major": 2,
       "version_minor": 0
      },
      "text/plain": [
       "interactive(children=(DatePicker(value=datetime.date(2020, 5, 12), description='start_date'), DatePicker(value…"
      ]
     },
     "metadata": {},
     "output_type": "display_data"
    }
   ],
   "source": [
    "\n",
    "def calculate_ticks(start_date,end_date):\n",
    "    diff = end_date-start_date\n",
    "    secs = diff.total_seconds()/60\n",
    "    return int(secs)\n",
    "ticks = interact(calculate_ticks,\n",
    "        start_date=widgets.DatePicker(value=(datetime.date.today() + dateutil.relativedelta.relativedelta(days=-1))),\n",
    "        end_date=widgets.DatePicker(value=datetime.date.today()))"
   ]
  },
  {
   "cell_type": "code",
   "execution_count": null,
   "metadata": {},
   "outputs": [],
   "source": [
    "\n",
    "btresults = mhb.identify_which_bot(ticks.widget.result)"
   ]
  },
  {
   "cell_type": "code",
   "execution_count": null,
   "metadata": {},
   "outputs": [],
   "source": [
    "results = sorted(btresults,key=lambda x: x.roi, reverse=True)\n",
    "print(results)"
   ]
  },
  {
   "cell_type": "code",
   "execution_count": null,
   "metadata": {},
   "outputs": [],
   "source": [
    "bdb = BotDB()\n",
    "filename = bdb.all_mh_configs_to_csv(results)\n",
    "df = bdb.csv_to_dataframe(filename)"
   ]
  },
  {
   "cell_type": "code",
   "execution_count": null,
   "metadata": {},
   "outputs": [],
   "source": [
    "print(df)"
   ]
  },
  {
   "cell_type": "code",
   "execution_count": null,
   "metadata": {},
   "outputs": [],
   "source": []
  }
 ],
 "metadata": {
  "kernelspec": {
   "display_name": "Python 3.7.5 64-bit ('.env': virtualenv)",
   "language": "python",
   "name": "python37564bitenvvirtualenv5bb4191721d4474aa7864bf4c502cc6f"
  },
  "language_info": {
   "codemirror_mode": {
    "name": "ipython",
    "version": 3
   },
   "file_extension": ".py",
   "mimetype": "text/x-python",
   "name": "python",
   "nbconvert_exporter": "python",
   "pygments_lexer": "ipython3",
   "version": "3.7.7"
  }
 },
 "nbformat": 4,
 "nbformat_minor": 2
}
