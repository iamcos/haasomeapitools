{
 "cells": [
  {
   "cell_type": "code",
   "execution_count": null,
   "metadata": {},
   "outputs": [
    {
     "name": "stderr",
     "output_type": "stream",
     "text": [
      "/Users/cosmos/GitHub/haasomeapitools/.env/lib/python3.7/site-packages/ipykernel_launcher.py:6: UserWarning:\n",
      "\n",
      "Pandas doesn't allow columns to be created via a new attribute name - see https://pandas.pydata.org/pandas-docs/stable/indexing.html#attribute-access\n",
      "\n"
     ]
    },
    {
     "name": "stdout",
     "output_type": "stream",
     "text": [
      "                          ds        y\n",
      "0        2017-09-01 18:40:00  4760.40\n",
      "1        2017-09-01 18:41:00  4760.40\n",
      "2        2017-09-01 18:42:00  4760.40\n",
      "3        2017-09-01 18:43:00  4785.28\n",
      "4        2017-09-01 18:44:00  4785.28\n",
      "...                      ...      ...\n",
      "1442212  2020-05-30 07:32:00  9561.99\n",
      "1442213  2020-05-30 07:33:00  9562.09\n",
      "1442214  2020-05-30 07:34:00  9560.97\n",
      "1442215  2020-05-30 07:35:00  9551.94\n",
      "1442216  2020-05-30 07:36:00  9550.87\n",
      "\n",
      "[1442217 rows x 2 columns]\n"
     ]
    }
   ],
   "source": [
    "# Python\n",
    "import pandas as pd\n",
    "from fbprophet import Prophet\n",
    "df = pd.read_csv(\n",
    "    '/Users/cosmos/GitHub/haasomeapitools/u.csv')\n",
    "df.date = pd.to_datetime(df['Date'])\n",
    "df2 = df[['Date','Sell']].copy()\n",
    "df2.columns = ['ds','y']\n",
    "df2.head()\n",
    "print(df2)\n",
    "m = Prophet(daily_seasonality=True, )\n",
    "m.fit(df2)\n",
    "\n",
    "future = m.make_future_dataframe(periods=40)\n",
    "future.tail()\n",
    "print(future)\n",
    "\n",
    "forecast = m.predict(future)\n",
    "forecast[['ds', 'yhat', 'yhat_lower', 'yhat_upper']].tail()\n",
    "print(forecast)\n",
    "\n"
   ]
  },
  {
   "cell_type": "code",
   "execution_count": null,
   "metadata": {},
   "outputs": [],
   "source": [
    "fig1 = m.plot(forecast)"
   ]
  },
  {
   "cell_type": "code",
   "execution_count": null,
   "metadata": {},
   "outputs": [],
   "source": [
    "from fbprophet.plot import plot_plotly\n",
    "import plotly.offline as py\n",
    "py.init_notebook_mode()\n",
    "\n",
    "fig = plot_plotly(m, forecast)  # This returns a plotly Figure\n",
    "py.iplot(fig)"
   ]
  },
  {
   "cell_type": "code",
   "execution_count": null,
   "metadata": {},
   "outputs": [],
   "source": []
  },
  {
   "cell_type": "code",
   "execution_count": null,
   "metadata": {},
   "outputs": [],
   "source": []
  }
 ],
 "metadata": {
  "kernelspec": {
   "display_name": "Python 3.7.7 64-bit ('.env': venv)",
   "language": "python",
   "name": "python37764bitenvvenvc35675b313834fa2a4d85c27b23a4100"
  },
  "language_info": {
   "codemirror_mode": {
    "name": "ipython",
    "version": 3
   },
   "file_extension": ".py",
   "mimetype": "text/x-python",
   "name": "python",
   "nbconvert_exporter": "python",
   "pygments_lexer": "ipython3",
   "version": "3.7.7"
  }
 },
 "nbformat": 4,
 "nbformat_minor": 4
}
