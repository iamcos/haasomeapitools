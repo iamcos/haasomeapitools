{
 "cells": [
  {
   "cell_type": "code",
   "execution_count": null,
   "metadata": {},
   "outputs": [],
   "source": []
  }
 ],
 "metadata": {
  "kernelspec": {
   "display_name": "Python 3.7.7 64-bit ('env': venv)",
   "language": "python",
   "name": "python37764bitenvvenvd8dfd096f5224e8eb2c29a65ba454ea9"
  }
 },
 "nbformat": 4,
 "nbformat_minor": 4
}
