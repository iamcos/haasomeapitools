{
 "cells": [
  {
   "cell_type": "markdown",
   "metadata": {},
   "source": [
    "# Mad-Hatter Bot iterator script combined with semi-manual finetuning\n"
   ]
  },
  {
   "cell_type": "code",
   "execution_count": 1,
   "metadata": {
    "ExecuteTime": {
     "end_time": "2020-05-30T08:45:51.968746Z",
     "start_time": "2020-05-30T08:45:50.828542Z"
    },
    "code_folding": []
   },
   "outputs": [
    {
     "data": {
      "application/javascript": [
       "require.config({\n",
       "    paths: {\n",
       "        datatables: 'https://cdn.datatables.net/1.10.19/js/jquery.dataTables.min',\n",
       "    }\n",
       "});\n",
       "\n",
       "$('head').append('<link rel=\"stylesheet\" type=\"text/css\" \\\n",
       "                href = \"https://cdn.datatables.net/1.10.19/css/jquery.dataTables.min.css\" > ');\n",
       "\n",
       "$('head').append('<style> table td { text-overflow: ellipsis; overflow: hidden; } </style>');\n",
       "\n",
       "$('head').append(`<script>\n",
       "function eval_functions(map_or_text) {\n",
       "    if (typeof map_or_text === \"string\") {\n",
       "        if (map_or_text.startsWith(\"function\")) {\n",
       "            try {\n",
       "                // Note: parenthesis are required around the whole expression for eval to return a value!\n",
       "                // See https://stackoverflow.com/a/7399078/911298.\n",
       "                //\n",
       "                // eval(\"local_fun = \" + map_or_text) would fail because local_fun is not declared\n",
       "                // (using var, let or const would work, but it would only be declared in the local scope\n",
       "                // and therefore the value could not be retrieved).\n",
       "                const func = eval(\"(\" + map_or_text + \")\");\n",
       "                if (typeof func !== \"function\") {\n",
       "                    // Note: backquotes are super convenient!\n",
       "                    // https://developer.mozilla.org/en-US/docs/Web/JavaScript/Reference/Template_literals\n",
       "                    console.error(\"Evaluated expression \" + map_or_text + \" is not a function (type is \" + typeof func + \")\");\n",
       "                    return map_or_text;\n",
       "                }\n",
       "                // Return the function\n",
       "                return func;\n",
       "            } catch (e) {\n",
       "                // Make sure to print the error with a second argument to console.error().\n",
       "                console.error(\"itables was not able to parse \" + map_or_text, e);\n",
       "            }\n",
       "        }\n",
       "    } else if (typeof map_or_text === \"object\") {\n",
       "        if (map_or_text instanceof Array) {\n",
       "            // Note: \"var\" is now superseded by \"let\" and \"const\".\n",
       "            // https://medium.com/javascript-scene/javascript-es6-var-let-or-const-ba58b8dcde75\n",
       "            const result = [];\n",
       "            // Note: \"for of\" is the best way to iterate through an iterable.\n",
       "            // https://developer.mozilla.org/en-US/docs/Web/JavaScript/Reference/Statements/for...of\n",
       "            for (const item of map_or_text) {\n",
       "                result.push(eval_functions(item));\n",
       "            }\n",
       "            return result;\n",
       "\n",
       "            // Alternatively, more functional approach in one line:\n",
       "            // return map_or_text.map(eval_functions);\n",
       "        } else {\n",
       "            const result = {};\n",
       "            // Object.keys() is safer than \"for in\" because otherwise you might have keys\n",
       "            // that aren't defined in the object itself.\n",
       "            //\n",
       "            // See https://stackoverflow.com/a/684692/911298.\n",
       "            for (const item of Object.keys(map_or_text)) {\n",
       "                result[item] = eval_functions(map_or_text[item]);\n",
       "            }\n",
       "            return result;\n",
       "        }\n",
       "    }\n",
       "\n",
       "    return map_or_text;\n",
       "}\n",
       "</` + 'script>');"
      ],
      "text/plain": [
       "<IPython.core.display.Javascript object>"
      ]
     },
     "metadata": {},
     "output_type": "display_data"
    }
   ],
   "source": [
    "#Make sure to run this cell as its vital for the rest of the script to run.\n",
    "from ratelimit import limits, sleep_and_retry\n",
    "import itables.interactive\n",
    "from itables import show\n",
    "import datetime\n",
    "import os\n",
    "from functools import lru_cache\n",
    "from BaseHaas import Bot\n",
    "import dateutil.relativedelta\n",
    "import ipywidgets as widgets\n",
    "import pandas as pd\n",
    "from haasomeapi.enums.EnumMadHatterIndicators import EnumMadHatterIndicators\n",
    "from haasomeapi.enums.EnumMadHatterSafeties import EnumMadHatterSafeties\n",
    "from haasomeapi.HaasomeClient import HaasomeClient\n",
    "from ipywidgets import interact\n",
    "from haasomeapi.enums.EnumErrorCode import EnumErrorCode\n",
    "\n",
    "import configserver\n",
    "import csv\n",
    "from  botsellector import BotSellector\n",
    "from botdb import BotDB, InteractiveBT\n",
    "def calculate_ticks(start_date,end_date):\n",
    "    diff = end_date-start_date\n",
    "    secs = diff.total_seconds()/60\n",
    "    return int(secs)\n",
    "opts= BotDB().get_mh_bots()\n",
    "botsellector = widgets.Dropdown(options=opts,value=opts[0][1],description='Select Bot',disabled=False,)\n",
    "files = BotDB().get_csv_files()\n",
    "filessellector = widgets.Dropdown(options=[x for x in files],value=files[2],description='Config file',disabled=False,)       \n",
    "start_date=widgets.DatePicker(value=(datetime.date.today() + dateutil.relativedelta.relativedelta(days=-9)))\n",
    "end_date=widgets.DatePicker(value=datetime.date.today())\n",
    "bd = BotDB()\n"
   ]
  },
  {
   "cell_type": "code",
   "execution_count": 4,
   "metadata": {
    "code_folding": []
   },
   "outputs": [
    {
     "data": {
      "application/vnd.jupyter.widget-view+json": {
       "model_id": "74419057dfee4e698f1e1e516bd624c5",
       "version_major": 2,
       "version_minor": 0
      },
      "text/plain": [
       "Dropdown(description='Select Bot', options=(['BTC/USDC', <haasomeapi.dataobjects.custombots.BaseCustomBot.Base…"
      ]
     },
     "metadata": {},
     "output_type": "display_data"
    },
    {
     "data": {
      "application/vnd.jupyter.widget-view+json": {
       "model_id": "34799f0dbcec4284a14115a2715e80d9",
       "version_major": 2,
       "version_minor": 0
      },
      "text/plain": [
       "Dropdown(description='Config file', index=2, options=('./bots300.csv', './bots100.csv', './bots500.csv', './bo…"
      ]
     },
     "metadata": {},
     "output_type": "display_data"
    },
    {
     "data": {
      "application/vnd.jupyter.widget-view+json": {
       "model_id": "32ddf6e653244d3fbf6587342e658fb9",
       "version_major": 2,
       "version_minor": 0
      },
      "text/plain": [
       "interactive(children=(DatePicker(value=datetime.date(2020, 5, 10), description='start_date'), DatePicker(value…"
      ]
     },
     "metadata": {},
     "output_type": "display_data"
    }
   ],
   "source": [
    "# After running this block you will see Bot Selector, config file sellector, start_date and end_date sllector.\n",
    "# Select a bot from list to backtest,\n",
    "# Select config file from list to use. bots.csv should generally be uses as it contains over 700 configs.\n",
    "\n",
    "# The latter you only need to change start_date to set backtesting begin date, no need to touch end_date.\n",
    "# when selecting backtesting starting date, the best practice is to set it to the most recent trend\n",
    "# change, i.e. the moment when pricemovement changed direction from down to uptrend.\n",
    "# You only need to select a bot, a file and date from drop down menus where and move on to the next cell\n",
    "display(botsellector), display(filessellector)\n",
    "ticks = interact(calculate_ticks, start_date=start_date, end_date=end_date)"
   ]
  },
  {
   "cell_type": "code",
   "execution_count": 5,
   "metadata": {
    "code_folding": []
   },
   "outputs": [
    {
     "name": "stdout",
     "output_type": "stream",
     "text": [
      "8.4222\n",
      "15.5944\n",
      "-7.7637\n",
      "15.0211\n",
      "4.057\n",
      "-2.3795\n",
      "-28.3811\n",
      "-1.3459\n",
      "8.5733\n",
      "-3.0612\n",
      "-3.1608\n",
      "-1.4868\n",
      "-8.9624\n",
      "7.7246\n",
      "9.4636\n",
      "-2.3953\n",
      "3.5832\n",
      "0.8183\n",
      "0.1584\n",
      "11.6745\n",
      "0.0\n",
      "-0.0922\n",
      "-0.9139\n",
      "-4.1997\n",
      "7.0933\n",
      "0.0\n",
      "-11.2266\n",
      "-13.6762\n",
      "5.8408\n",
      "7.4752\n",
      "-0.2353\n",
      "4.8017\n",
      "-14.9141\n",
      "-1.8141\n",
      "-31.4978\n",
      "4.5677\n",
      "2.5064\n",
      "0.0\n",
      "-1.0017\n",
      "8.0419\n",
      "-34.0683\n",
      "0.0\n",
      "-0.0616\n",
      "-0.2311\n",
      "0.0\n",
      "-8.317\n",
      "-8.0574\n",
      "7.9862\n",
      "0.0\n",
      "-3.5436\n",
      "-16.4795\n",
      "-0.0885\n",
      "-4.6723\n",
      "2.1688\n",
      "0.0\n",
      "-4.0762\n",
      "-5.0722\n",
      "0.0\n",
      "5.5714\n",
      "2.2644\n",
      "2.3427\n",
      "0.3933\n",
      "-0.0975\n",
      "13.1023\n",
      "-6.873\n",
      "3.4933\n",
      "7.1324\n",
      "19.8148\n",
      "-6.8567\n",
      "11.0861\n",
      "-17.1894\n",
      "-2.4395\n",
      "-7.4402\n",
      "-12.7477\n",
      "-20.2614\n",
      "-2.8182\n",
      "-1.5182\n",
      "-0.0153\n",
      "0.4985\n",
      "-6.633\n",
      "-1.958\n",
      "-12.107\n",
      "5.34\n",
      "16.697\n",
      "8.2091\n",
      "5.9436\n",
      "-3.7231\n",
      "3.9746\n",
      "13.1324\n",
      "9.9514\n",
      "7.3617\n",
      "-0.7675\n",
      "-27.0593\n",
      "-1.1707\n",
      "-5.5377\n",
      "-15.237\n",
      "5.5373\n",
      "-17.8043\n",
      "11.4047\n",
      "0.5575\n",
      "Backtesting Stage Complete\n"
     ]
    }
   ],
   "source": [
    "# This cell gets down to business - begins backtesting stage.\n",
    "# You will only see a list of updating backtesting results for now for reference.\n",
    "# Backtesting stage execution time heavily relies on how long the backtest you have selected.\n",
    "# If chosen bots.csv file,expect it to take around 30-40 minutes on 2-5 day backtesting interval.\n",
    "# And up to two hours or longer if backtesting interval is set to weeks or month.\n",
    "\n",
    "# Make sure to also run this cell after the previous one.\n",
    "# It will throw an error once run on a rose color background.\n",
    "# Just ignore that for now and enjoy backtestign results coming in.\n",
    "# Once completed,  a star sign on the left hand side of this cell located in \"In [*]:\" changed to a number.\n",
    "#  also below this cell, after backtestign results it will say \"Backtesting Stage Complete\"\n",
    "bd = BotDB()\n",
    "configs = bd.read_csv(filessellector.value)\n",
    "results = bd.iterate_csv(configs, botsellector.value, ticks.widget.result)\n",
    "print('Backtesting Stage Complete')"
   ]
  },
  {
   "cell_type": "code",
   "execution_count": 6,
   "metadata": {
    "code_folding": [
     6
    ]
   },
   "outputs": [],
   "source": [
    "# Run this cell as well. It performs sorting and cleaning operations on the results from above.\n",
    "# Here will also be an error printed. Ignore that too.\n",
    "\n",
    "results.sort_values(by='roi', ascending=False, inplace=True)\n",
    "cols = results.columns.tolist()\n",
    "# print(cols) \n",
    "cols = ['roi','interval', 'signalconsensus', \n",
    "        'fcc', 'resetmiddle', 'allowmidsells', \n",
    "        'matype', 'rsil', 'rsib', 'rsis', 'bbl',\n",
    "        'devup', 'devdn', 'macdfast', 'macdslow', \n",
    "        'macdsign', 'trades']\n",
    "results.reset_index()\n",
    "results = results[cols]\n"
   ]
  },
  {
   "cell_type": "code",
   "execution_count": 7,
   "metadata": {
    "code_folding": []
   },
   "outputs": [
    {
     "data": {
      "text/html": [
       "<div><table id=\"def7323e-b771-4646-bf20-959feca11245\" class=\"display\"><thead>\n",
       "    <tr style=\"text-align: right;\">\n",
       "      <th></th>\n",
       "      <th>roi</th>\n",
       "      <th>interval</th>\n",
       "      <th>signalconsensus</th>\n",
       "      <th>fcc</th>\n",
       "      <th>resetmiddle</th>\n",
       "      <th>allowmidsells</th>\n",
       "      <th>matype</th>\n",
       "      <th>rsil</th>\n",
       "      <th>rsib</th>\n",
       "      <th>rsis</th>\n",
       "      <th>bbl</th>\n",
       "      <th>devup</th>\n",
       "      <th>devdn</th>\n",
       "      <th>macdfast</th>\n",
       "      <th>macdslow</th>\n",
       "      <th>macdsign</th>\n",
       "      <th>trades</th>\n",
       "    </tr>\n",
       "  </thead></table>\n",
       "<script type=\"text/javascript\">\n",
       "require([\"datatables\"], function (datatables) {\n",
       "    $(document).ready(function () {        \n",
       "        var dt_args = {\"columnDefs\": [{\"width\": \"70px\", \"targets\": \"_all\"}], \"lengthMenu\": [10, 20, 50, 100], \"data\": [[67, 19.8148, 5, false, false, false, false, 1, 23, 41.0, 61.0, 100, 2.6, 2.3, 40, 160, 2, NaN], [83, 16.697, 1, true, false, false, false, 7, 300, 49.0, 54.0, 4, 2.0, 2.0, 20, 40, 18, NaN], [1, 15.5944, 5, false, false, true, false, 1, 6, 39.0, 71.0, 50, 2.3, 1.0, 14, 38, 8, NaN], [3, 15.0211, 5, false, false, true, false, 7, 17, 35.0, 62.0, 31, 1.0, 1.0, 11, 18, 4, NaN], [88, 13.1324, 5, false, false, true, false, 7, 41, 41.0, 61.0, 55, 0.4, 1.1, 12, 24, 4, NaN], [63, 13.1023, 5, false, false, false, false, 3, 17, 43.0, 71.0, 53, 1.1, 0.92, 22, 26, 2, NaN], [19, 11.6745, 5, false, false, false, false, 1, 41, 49.0, 62.0, 57, 1.0, 1.0, 58, 122, 4, NaN], [98, 11.4047, 5, false, false, false, false, 8, 28, 37.0, 66.0, 2, 2.0, 2.0, 16, 97, 2, NaN], [69, 11.0861, 5, false, false, false, false, 6, 4, 11.0, 82.0, 14, 1.3, 1.3, 3, 5, 2, NaN], [89, 9.9514, 1, true, false, false, false, 8, 3, 31.0, 81.0, 12, 2.0, 1.0, 40, 120, 2, NaN], [14, 9.4636, 2, false, false, false, false, 2, 11, 45.0, 75.0, 33, 1.8, 1.5, 2, 40, 41, NaN], [8, 8.5733, 5, false, false, false, false, 2, 5, 31.0, 83.0, 71, 1.97, 2.15, 6, 400, 41, NaN], [0, 8.4222, 5, false, false, false, false, 1, 5, 41.0, 78.0, 12, 1.9, 2.5, 12, 26, 9, NaN], [84, 8.2091, 5, false, false, false, false, 7, 21, 41.0, 65.0, 4, 1.0, 1.0, 30, 90, 2, NaN], [39, 8.0419, 5, false, false, false, false, 7, 6, 25.0, 81.0, 7, 1.1, 1.0, 40, 159, 2, NaN], [47, 7.9862, 5, false, false, false, false, 0, 30, 37.0, 70.0, 248, 2.96, 2.82, 11, 40, 7, NaN], [13, 7.7246, 5, false, false, false, false, 0, 13, 20.0, 80.0, 13, 1.7, 1.1, 12, 26, 9, NaN], [29, 7.4752, 5, false, false, true, false, 0, 40, 37.0, 76.0, 12, 3.0, 1.6, 20, 120, 2, NaN], [90, 7.3617, 5, true, false, false, false, 4, 12, 40.0, 66.0, 40, 3.0, 2.2, 31, 71, 12, NaN], [66, 7.1324, 20, false, false, false, false, 7, 3, 26.0, 81.0, 5, 1.0, 1.0, 20, 120, 2, NaN], [24, 7.0933, 12, false, false, true, false, 2, 11, 45.0, 72.0, 35, 1.0, 1.0, 20, 40, 8, NaN], [85, 5.9436, 5, false, false, false, false, 3, 14, 61.0, 71.0, 7, 1.1, 0.92, 22, 26, 2, NaN], [28, 5.8408, 5, false, false, false, false, 7, 12, 39.0, 61.0, 7, 1.1, 1.2, 31, 81, 12, NaN], [58, 5.5714, 5, false, false, true, false, 2, 6, 27.0, 76.0, 51, 1.3, 1.3, 5, 30, 10, NaN], [96, 5.5373, 5, false, false, false, false, 8, 8, 31.0, 81.0, 11, 2.0, 1.0, 12, 24, 2, NaN], [82, 5.34, 5, false, false, true, false, 8, 6, 32.0, 77.0, 65, 3.0, 2.0, 12, 26, 9, NaN], [31, 4.8017, 5, false, false, false, false, 6, 20, 34.0, 50.0, 11, 1.5, 1.3, 12, 24, 20, NaN], [35, 4.5677, 1, false, false, false, false, 8, 6, 21.0, 71.0, 12, 1.0, 1.0, 10, 20, 7, NaN], [4, 4.057, 5, false, false, false, false, 7, 7, 21.0, 75.0, 25, 2.0, 1.1, 12, 24, 2, NaN], [87, 3.9746, 5, true, false, false, false, 7, 10, 35.0, 78.0, 16, 2.0, 2.0, 13, 26, 2, NaN], [16, 3.5832, 5, false, false, false, false, 6, 18, 44.0, 61.0, 22, 2.2, 2.1, 50, 100, 11, NaN], [65, 3.4933, 1, false, false, false, false, 4, 4, 21.0, 91.0, 51, 2.0, 1.0, 10, 100, 51, NaN], [36, 2.5064, 5, false, false, false, true, 0, 9, 29.0, 61.0, 23, 2.0, 2.1, 40, 80, 4, NaN], [60, 2.3427, 5, false, false, false, false, 6, 20, 25.0, 63.0, 25, 0.4, 0.6, 6, 81, 12, NaN], [59, 2.2644, 10, false, false, false, false, 8, 3, 21.0, 91.0, 54, 1.0, 1.0, 20, 80, 2, NaN], [53, 2.1688, 10, false, false, false, false, 2, 8, 45.0, 75.0, 13, 1.0, 1.0, 60, 120, 12, NaN], [17, 0.8183, 5, false, false, false, false, 6, 18, 40.0, 51.0, 15, 2.0, 2.0, 7, 23, 18, NaN], [99, 0.5575, 20, true, false, false, false, 1, 2, 19.0, 79.0, 626, 2.1, 0.5, 9, 22, 6, NaN], [78, 0.4985, 10, true, false, false, false, 3, 15, 46.0, 59.0, 12, 1.0, 1.0, 20, 120, 12, NaN], [61, 0.3933, 5, false, false, true, false, 8, 2, 7.0, 81.0, 65, 2.719, 2.0, 30, 120, 30, NaN], [18, 0.1584, 6, false, false, false, false, 5, 2, 12.0, 91.0, 8, 2.1, 1.8, 20, 120, 12, NaN], [20, 0.0, 10, true, false, true, false, 7, 12, 12.0, 85.0, 3, 2.1, 2.4, 20, 50, 2, NaN], [54, 0.0, 12, true, false, false, false, 8, 10, 10.0, 90.0, 31, 1.0, 1.0, 15, 120, 30, NaN], [25, 0.0, 5, true, false, false, false, 6, 6, 3.0, 85.0, 96, 1.87, 1.94, 41, 130, 41, NaN], [37, 0.0, 2, false, false, false, false, 2, 11, 45.0, 75.0, 4, 1.8, 1.5, 50, 100, 2, NaN], [48, 0.0, 60, true, false, false, false, 2, 5, 31.0, 66.0, 10, 0.5, 2.0, 5, 10, 2, NaN], [44, 0.0, 5, true, false, false, false, 6, 4, 3.0, 86.0, 24, 1.86, 1.94, 41, 250, 21, NaN], [41, 0.0, 5, true, false, false, false, 6, 8, 3.0, 81.0, 94, 1.86, 1.6, 40, 120, 27, NaN], [57, 0.0, 5, false, false, false, false, 8, 5, 22.0, 86.0, 10, 0.5, 0.5, 20, 120, 12, NaN], [77, -0.0153, 5, false, false, false, false, 8, 8, 27.0, 75.0, 12, 3.5, 0.7, 5, 231, 2, NaN], [42, -0.0616, 10, false, false, true, false, 7, 13, 59.0, 71.0, 6, 1.1, 0.92, 3, 5, 13, NaN], [51, -0.0885, 15, true, false, false, false, 6, 11, 40.0, 81.0, 159, 1.0, 1.0, 9, 19, 2, NaN], [21, -0.0922, 5, true, false, false, false, 2, 18, 28.0, 83.0, 71, 1.97, 2.15, 6, 400, 41, NaN], [62, -0.0975, 5, true, false, false, false, 2, 18, 28.0, 83.0, 72, 0.51, 1.15, 6, 400, 41, NaN], [43, -0.2311, 5, false, false, false, false, 8, 6, 27.0, 76.0, 21, 2.0, 2.0, 5, 30, 10, NaN], [30, -0.2353, 5, true, true, false, false, 7, 5, 26.0, 96.0, 12, 2.0, 0.6, 18, 45, 2, NaN], [91, -0.7675, 5, false, false, false, true, 0, 21, 42.0, 51.0, 31, 1.0, 1.0, 20, 120, 12, NaN], [22, -0.9139, 1, false, false, false, false, 5, 2, 32.0, 77.0, 12, 0.5, 0.4, 12, 26, 9, NaN], [38, -1.0017, 5, false, false, false, false, 1, 2, 19.0, 55.0, 15, 2.0, 1.0, 3, 8, 2, NaN], [93, -1.1707, 5, true, false, false, false, 6, 21, 29.0, 75.0, 50, 1.1, 1.3, 9, 23, 31, NaN], [7, -1.3459, 5, false, true, false, true, 0, 14, 20.0, 80.0, 21, 2.0, 2.0, 12, 26, 9, NaN], [11, -1.4868, 1, false, false, false, false, 8, 3, 1.0, 81.0, 6, 1.0, 1.0, 5, 120, 2, NaN], [76, -1.5182, 1, false, false, false, false, 5, 3, 31.0, 71.0, 55, 2.0, 1.8, 10, 120, 2, NaN], [33, -1.8141, 120, false, false, false, false, 3, 3, 22.0, 72.0, 6, 1.0, 1.0, 20, 40, 4, NaN], [80, -1.958, 15, false, false, false, false, 8, 4, 21.0, 81.0, 16, 1.5, 2.0, 30, 40, 2, NaN], [5, -2.3795, 5, false, true, false, false, 4, 3, 21.0, 89.0, 32, 0.4, 0.4, 6, 81, 12, NaN], [15, -2.3953, 5, false, false, true, false, 0, 6, 31.98, 77.0, 21, 2.5, 1.5, 12, 26, 10, NaN], [71, -2.4395, 10, false, false, false, false, 4, 5, 21.0, 61.0, 12, 1.0, 1.0, 10, 40, 2, NaN], [75, -2.8182, 2, false, false, false, false, 8, 6, 41.0, 71.0, 7, 1.0, 1.0, 5, 20, 2, NaN], [9, -3.0612, 10, false, false, false, false, 7, 2, 32.0, 89.0, 21, 1.0, 1.0, 41, 130, 2, NaN], [10, -3.1608, 5, false, false, true, false, 5, 13, 35.0, 53.0, 16, 1.5, 1.5, 20, 50, 2, NaN], [49, -3.5436, 5, true, false, false, false, 7, 12, 27.0, 73.0, 5, 3.0, 1.0, 20, 40, 4, NaN], [86, -3.7231, 10, false, false, false, false, 0, 8, 30.0, 70.0, 20, 2.0, 2.0, 12, 26, 9, NaN], [55, -4.0762, 5, false, false, false, false, 0, 93, 44.0, 60.0, 31, 1.0, 1.0, 10, 20, 2, NaN], [23, -4.1997, 6, false, false, false, false, 5, 6, 25.0, 82.0, 15, 2.0, 2.0, 21, 40, 2, NaN], [52, -4.6723, 6, false, false, false, false, 5, 5, 31.0, 71.0, 2, 1.0, 1.0, 20, 40, 12, NaN], [56, -5.0722, 12, false, false, true, false, 6, 7, 43.0, 71.0, 72, 1.0, 1.0, 22, 26, 2, NaN], [94, -5.5377, 5, true, false, false, false, 2, 3, 21.0, 71.0, 15, 1.0, 1.0, 20, 80, 2, NaN], [79, -6.633, 5, false, false, false, false, 7, 2, 31.0, 80.0, 21, 2.9, 1.0, 20, 40, 2, NaN], [68, -6.8567, 5, true, false, false, false, 8, 4, 23.0, 71.0, 11, 1.0, 1.7, 4, 83, 9, NaN], [64, -6.873, 5, false, false, false, false, 1, 3, 24.0, 78.0, 25, 1.0, 1.0, 21, 40, 12, NaN], [72, -7.4402, 12, false, false, false, false, 0, 4, 41.0, 71.0, 20, 1.0, 1.0, 7, 23, 18, NaN], [2, -7.7637, 6, false, false, false, false, 5, 3, 51.0, 71.0, 8, 2.1, 1.8, 20, 120, 2, NaN], [46, -8.0574, 5, false, true, true, false, 4, 4, 36.0, 65.0, 32, 0.3, 0.8, 12, 24, 4, NaN], [45, -8.317, 3, false, true, false, false, 2, 6, 45.0, 75.0, 7, 2.0, 1.5, 20, 120, 2, NaN], [12, -8.9624, 5, false, false, true, true, 1, 4, 40.0, 54.0, 5, 2.0, 0.2, 50, 80, 9, NaN], [26, -11.2266, 10, false, false, true, true, 0, 4, 35.0, 81.0, 12, 2.0, 1.0, 20, 120, 2, NaN], [81, -12.107, 5, false, false, false, false, 1, 5, 41.0, 78.0, 12, 2.1, 1.0, 12, 26, 9, NaN], [73, -12.7477, 1, true, false, false, false, 6, 11, 55.0, 71.0, 8, 1.0, 1.0, 9, 19, 2, NaN], [27, -13.6762, 12, true, false, false, false, 0, 5, 41.0, 71.0, 12, 2.0, 1.0, 20, 80, 2, NaN], [32, -14.9141, 10, false, false, false, false, 2, 8, 49.0, 71.0, 21, 1.5, 1.0, 20, 40, 8, NaN], [95, -15.237, 10, false, false, false, false, 8, 5, 36.0, 61.0, 3, 1.0, 0.5, 33, 66, 9, NaN], [50, -16.4795, 5, false, false, false, false, 0, 2, 41.0, 67.0, 21, 1.0, 1.0, 5, 24, 12, NaN], [70, -17.1894, 5, false, false, false, true, 7, 5, 32.0, 74.0, 12, 2.1, 1.4, 11, 24, 2, NaN], [97, -17.8043, 5, true, false, false, false, 2, 7, 40.0, 66.0, 8, 2.0, 2.0, 4, 19, 3, NaN], [74, -20.2614, 1, true, false, false, true, 0, 18, 100.0, 51.0, 15, 2.0, 2.0, 7, 23, 12, NaN], [92, -27.0593, 6, true, false, false, false, 2, 3, 37.0, 70.0, 7, 1.0, 1.0, 12, 24, 9, NaN], [6, -28.3811, 5, false, false, false, false, 7, 2, 12.0, 81.0, 9, 1.0, 1.0, 20, 90, 3, NaN], [34, -31.4978, 5, false, false, false, false, 0, 3, 40.0, 51.0, 15, 1.4, 1.0, 7, 23, 18, NaN], [40, -34.0683, 1, false, false, false, false, 5, 3, 51.0, 71.0, 8, 2.1, 1.8, 10, 120, 2, NaN]]};\n",
       "        dt_args = eval_functions(dt_args);\n",
       "        table = $('#def7323e-b771-4646-bf20-959feca11245').DataTable(dt_args);\n",
       "    });\n",
       "})\n",
       "</script>\n",
       "</div>\n"
      ],
      "text/plain": [
       "<IPython.core.display.HTML object>"
      ]
     },
     "metadata": {},
     "output_type": "display_data"
    },
    {
     "data": {
      "application/vnd.jupyter.widget-view+json": {
       "model_id": "e202241e02be485f9d690780183f1823",
       "version_major": 2,
       "version_minor": 0
      },
      "text/plain": [
       "IntText(value=0, description='Bot Num:')"
      ]
     },
     "metadata": {},
     "output_type": "display_data"
    },
    {
     "data": {
      "application/vnd.jupyter.widget-view+json": {
       "model_id": "692d2ed06fa34d19943f52f0efb0de23",
       "version_major": 2,
       "version_minor": 0
      },
      "text/plain": [
       "Button(description='Apply config', style=ButtonStyle())"
      ]
     },
     "metadata": {},
     "output_type": "display_data"
    },
    {
     "data": {
      "application/vnd.jupyter.widget-view+json": {
       "model_id": "293d5359669c44118c27adb0848afa28",
       "version_major": 2,
       "version_minor": 0
      },
      "text/plain": [
       "Output()"
      ]
     },
     "metadata": {},
     "output_type": "display_data"
    }
   ],
   "source": [
    "# This cell displays results in a more meaningful table-fashion manner for you to analyze.\n",
    "# You have an ability to select how many configurations are displayed in dropdown above the table.\n",
    "# In general you only need to care for the first row and Roi row.\n",
    "# In the first row is bot configuration number. Roi is backtesting results\n",
    "# To apply a bot configuration to the selected bot, type its number Below the table and click\n",
    "# \"Apply config\" button for the bot to be configured according and backtested for you to see.\n",
    "# Once applied, go to Haas interface, select that bot one more time by mouseclicking it\n",
    "# if not in full screen, to see changes to its configuration.\n",
    "# You should see the configuraion backtesting results, trades and so on once backtest is complete.\n",
    "# There is no limit to he number of configurations you can apply to your bot, so take your time\n",
    "# To analyzer the best ones in Bot Analyzer in Haas interface to make sure that it's trades align \n",
    "# with your expectations before going to the next stage.\n",
    "# Once this cell run, you may have to scroll up a bit to see the table, so make sure to do that \n",
    "# its not at sight.\n",
    "# Backtesting results may slightly vary from what is in the table, usually by not much.\n",
    "\n",
    "import itables.interactive\n",
    "from itables import show\n",
    "import itables.options as opt\n",
    "results.reset_index()\n",
    "try:\n",
    "    results.drop(['Unnamed: 0', ],axis=1,inplace=True)\n",
    "except:\n",
    "    pass\n",
    "opt.lengthMenu = [10, 20, 50, 100]\n",
    "show(results)\n",
    "results_sellector = widgets.Dropdown(\n",
    "    options= [x for x in results.index],\n",
    "    value=results.index[0],\n",
    "    description='Botlist',\n",
    "    disabled=False,\n",
    ")\n",
    "def configure_bot_from_csv_by_id(index):\n",
    "        bot = botsellector.value\n",
    "        \n",
    "        config = configs.loc[index]\n",
    "        bd.setup_bot_from_csv(bot, config)\n",
    "        bt = bd.bt_bot(bot,int(ticks.widget.result))\n",
    "\n",
    "\n",
    "from IPython.display import display\n",
    "button = widgets.Button(description=\"Apply config\")\n",
    "output = widgets.Output()\n",
    "r_s = widgets.IntText(\n",
    "    value=0,\n",
    "    min=0,\n",
    "    step=1,\n",
    "    description='Bot Num:',\n",
    "    disabled=False\n",
    ")\n",
    "display(r_s,button,output)\n",
    "\n",
    "def on_button_clicked(b):\n",
    "    configure_bot_from_csv_by_id(r_s.value)\n",
    "    with output:\n",
    "        print(\"Bot Config has been applied. Backtesting results available in Haas\")\n",
    "   \n",
    "\n",
    "button.on_click(on_button_clicked)\n"
   ]
  },
  {
   "cell_type": "code",
   "execution_count": null,
   "metadata": {
    "code_folding": []
   },
   "outputs": [],
   "source": [
    "\n",
    "class InteractiveBT(Bot):\n",
    "    def __init__(self):\n",
    "        Bot.__init__(self)\n",
    "        \n",
    "    @sleep_and_retry\n",
    "    @limits(calls=3, period=2)\n",
    "    def return_botlist(self):\n",
    "        bl = self.c().customBotApi.get_all_custom_bots().result\n",
    "        botlist = [x for x in bl if x.botType == 15]\n",
    "        # print(botlist)\n",
    "        return botlist\n",
    "    \n",
    "\n",
    "    def identify_bot(self):\n",
    "        botlist = self.return_botlist()\n",
    "        while True:\n",
    "            botlist2 = self.return_botlist()\n",
    "            lists = zip(botlist,botlist2)\n",
    "            for x in lists:\n",
    "                c= self.compare_indicators(x[0],x[1])\n",
    "                if c == False:\n",
    "                    return x[1]\n",
    "    @sleep_and_retry\n",
    "    @limits(calls=3, period=2)\n",
    "    def monitor_bot(self,bot, ticks):\n",
    "        botlist = self.return_botlist()\n",
    "        for b in botlist:\n",
    "            if b.guid == bot.guid:\n",
    "                c = self.compare_indicators(bot,b)\n",
    "                if c == True:\n",
    "                    pass\n",
    "                elif c == False:\n",
    "                    bot = self.bt_mh_on_update(b, ticks)\n",
    "                return bot\n",
    "           \n",
    "    def compare_indicators(self, bot, bot1):\n",
    "            # print(bot.rsi, '\\n',bot1.rsi)\n",
    "        rsi = bot.rsi.items() == bot1.rsi.items()\n",
    "        bbands = bot.bBands.items() == bot1.bBands.items()\n",
    "        macd = bot.macd.items() == bot1.macd.items()\n",
    "        interval = bot.interval == bot1.interval\n",
    "        if rsi == True and bbands == True and macd == True and interval == True:\n",
    "            return True\n",
    "        else:\n",
    "            # print('bot not alike')\n",
    "            return False\n",
    "    \n",
    "    def identify_changed_param(self,bot,bot1):\n",
    "        diff = {}\n",
    "        param_list = ['rsi','bBands','macd']\n",
    "        for param in param_list:\n",
    "            diff[param] = { k : bot.param[k] for k in set(bot1.param) - set(bot.param) }\n",
    "            if len(diff)>0:\n",
    "                return diff\n",
    "            else:\n",
    "                return None\n",
    "        \n",
    "\n",
    "\n",
    "    @sleep_and_retry\n",
    "    @limits(calls=3, period=2)\n",
    "    def bt_mh_on_update(self, bot, ticks):\n",
    "\n",
    "        bt = self.c().customBotApi.backtest_custom_bot(\n",
    "            bot.guid,\n",
    "            int(ticks)\n",
    "        )\n",
    "        if bt.errorCode != EnumErrorCode.SUCCESS:\n",
    "            print(\"bt\", bt.errorCode, bt.errorMessage)\n",
    "        else:\n",
    "            # print(bt.result.roi)\n",
    "            # print(bt.errorCode, bt.errorMessage)\n",
    "            return bt.result\n",
    "        \n",
    "\n",
    "\n"
   ]
  },
  {
   "cell_type": "code",
   "execution_count": null,
   "metadata": {
    "code_folding": [],
    "scrolled": true
   },
   "outputs": [],
   "source": [
    "ibt = InteractiveBT()\n",
    "bot = ibt.identify_bot()\n",
    "semi_auto_tuning = [bot]\n",
    "\n",
    "def on_stop_button(b):\n",
    "    return False\n",
    "    \n",
    "stopbutton = widgets.Button(description=\"STOP AutoBT\")\n",
    "while True:\n",
    "    bot = ibt.monitor_bot(bot, ticks.widget.result)\n",
    "    if semi_auto_tuning[-1].roi != bot.roi:\n",
    "        semi_auto_tuning.append(bot)\n",
    "#     print(bot.rsi)\n",
    "#     print(bot.macd)\n",
    "#     print(bot.bBands)\n",
    "    if stopbutton.on_click(on_stop_button) == False:\n",
    "        break"
   ]
  },
  {
   "cell_type": "code",
   "execution_count": null,
   "metadata": {
    "code_folding": [
     0
    ]
   },
   "outputs": [],
   "source": [
    "# sortedresults = sorted(semi_auto_tuning,key=lambda x: x.roi, reverse=True)\n",
    "df = pd.DataFrame([{'ROI':b.roi,'Bot':b} for b in semi_auto_tuning]) \n",
    "df.sort_values(by='ROI', ascending=False, inplace=True)\n",
    "df.reset_index()\n",
    "show(df)\n",
    "\n",
    "def configure_bot_from_botobject(index):      \n",
    "        config = df.Bot.iloc[index]\n",
    "        print(config)\n",
    "        bd.setup_bot(bot, config)\n",
    "        bot = bd.bt_bot(bot,int(ticks.widget.result))\n",
    "        \n",
    "button = widgets.Button(description=\"Apply config\")\n",
    "output = widgets.Output()\n",
    "r_s = widgets.IntText(\n",
    "    value=0,\n",
    "    min=0,\n",
    "    step=1,\n",
    "    description='Bot Num:',\n",
    "    disabled=False\n",
    ")\n",
    "display(r_s,button,output)\n",
    "\n",
    "def on_button_clicked(b):\n",
    "    configure_bot_from_botobject(r_s.value)\n",
    "    with output:\n",
    "        print(\"Bot Config has been applied. Backtesting results available in Haas\")\n",
    "   \n",
    "\n",
    "button.on_click(on_button_clicked)\n"
   ]
  },
  {
   "cell_type": "code",
   "execution_count": null,
   "metadata": {},
   "outputs": [],
   "source": [
    "bot = bd.bt_bot(botsellector.value,1)\n",
    "setup = bd.setup_bot(bot,botsellector.value)\n",
    "= bd.bt_bot(bot,int(ticks.widget.result))"
   ]
  },
  {
   "cell_type": "code",
   "execution_count": null,
   "metadata": {},
   "outputs": [],
   "source": []
  }
 ],
 "metadata": {
  "kernelspec": {
   "display_name": "Python 3",
   "language": "python",
   "name": "python3"
  },
  "language_info": {
   "codemirror_mode": {
    "name": "ipython",
    "version": 3
   },
   "file_extension": ".py",
   "mimetype": "text/x-python",
   "name": "python",
   "nbconvert_exporter": "python",
   "pygments_lexer": "ipython3",
   "version": "3.8.3"
  }
 },
 "nbformat": 4,
 "nbformat_minor": 2
}
