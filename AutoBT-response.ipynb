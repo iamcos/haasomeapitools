{
 "cells": [
  {
   "cell_type": "code",
   "execution_count": 24,
   "metadata": {},
   "outputs": [
    {
     "data": {
      "application/vnd.jupyter.widget-view+json": {
       "model_id": "b3398d89d1474c69b60b7aaad0484eed",
       "version_major": 2,
       "version_minor": 0
      },
      "text/plain": [
       "interactive(children=(DatePicker(value=datetime.date(2020, 5, 13), description='start_date'), DatePicker(value…"
      ]
     },
     "metadata": {},
     "output_type": "display_data"
    }
   ],
   "source": [
    "import datetime\n",
    "import os\n",
    "from functools import lru_cache\n",
    "from BaseHaas import Bot\n",
    "import dateutil.relativedelta\n",
    "import ipywidgets as widgets\n",
    "import pandas as pd\n",
    "from haasomeapi.enums.EnumMadHatterIndicators import EnumMadHatterIndicators\n",
    "from haasomeapi.enums.EnumMadHatterSafeties import EnumMadHatterSafeties\n",
    "from haasomeapi.HaasomeClient import HaasomeClient\n",
    "from ipywidgets import interact\n",
    "from haasomeapi.enums.EnumErrorCode import EnumErrorCode\n",
    "from ratelimit import limits, sleep_and_retry\n",
    "import configserver\n",
    "from botsellector import BotSellector\n",
    "\n",
    "def calculate_ticks(start_date,end_date):\n",
    "    diff = end_date-start_date\n",
    "    secs = diff.total_seconds()/60\n",
    "    return int(secs)\n",
    "ticks = interact(calculate_ticks,\n",
    "        start_date=widgets.DatePicker(value=(datetime.date.today() + dateutil.relativedelta.relativedelta(days=-1))),\n",
    "        end_date=widgets.DatePicker(value=datetime.date.today()))"
   ]
  },
  {
   "cell_type": "markdown",
   "metadata": {},
   "source": [
    "Changes in Bot configuration and backtesting are like family: one cannot be whole without the other one. Yet up until now, we didn't have them working in parallel. From now on things have changed: backtesting follows bot parameter changes automatically whenever this script is enabled."
   ]
  },
  {
   "cell_type": "code",
   "execution_count": 26,
   "metadata": {},
   "outputs": [
    {
     "data": {
      "text/plain": [
       "1"
      ]
     },
     "execution_count": 26,
     "metadata": {},
     "output_type": "execute_result"
    }
   ],
   "source": [
    "class InteractiveBT(Bot):\n",
    "    def __init__(self):\n",
    "        Bot.__init__(self)\n",
    "        \n",
    "    @sleep_and_retry\n",
    "    @limits(calls=3, period=2)\n",
    "    def return_botlist(self):\n",
    "        bl = self.c().customBotApi.get_all_custom_bots().result\n",
    "        botlist = [x for x in bl if x.botType == 15]\n",
    "        # print(botlist)\n",
    "        return botlist\n",
    "    \n",
    "\n",
    "    def return_edited_bot(self):\n",
    "        botlist = self.return_botlist()\n",
    "        while True:\n",
    "            botlist2 = self.return_botlist()\n",
    "            lists = zip(botlist,botlist2)\n",
    "            for x in lists:\n",
    "                c= self.compare_indicators(x[0],x[1])\n",
    "                if c == False:\n",
    "                    return x[1]\n",
    "    @sleep_and_retry\n",
    "    @limits(calls=4, period=3)\n",
    "    def monitor_bot(self,bot, ticks):\n",
    "        botlist = self.return_botlist()\n",
    "        for b in botlist:\n",
    "            if b.guid == bot.guid:\n",
    "                c = self.compare_indicators(bot,b)\n",
    "                if c == True:\n",
    "                    pass\n",
    "                elif c == False:\n",
    "                    bot = self.bt_mh_on_update(b, ticks)\n",
    "                return bot\n",
    "           \n",
    "    def compare_indicators(self, bot, bot1):\n",
    "            # print(bot.rsi, '\\n',bot1.rsi)\n",
    "        rsi = bot.rsi.items() == bot1.rsi.items()\n",
    "        bbands = bot.bBands.items() == bot1.bBands.items()\n",
    "        macd = bot.macd.items() == bot1.macd.items()\n",
    "        interval = bot.interval == bot1.interval\n",
    "        if rsi == True and bbands == True and macd == True and interval == True:\n",
    "            return True\n",
    "        else:\n",
    "            # print('bot not alike')\n",
    "            return False\n",
    "\n",
    "\n",
    "\n",
    "    @sleep_and_retry\n",
    "    @limits(calls=3, period=2)\n",
    "    def bt_mh_on_update(self, bot, ticks):\n",
    "\n",
    "        bt = self.c().customBotApi.backtest_custom_bot(\n",
    "            bot.guid,\n",
    "            int(ticks)\n",
    "        )\n",
    "        if bt.errorCode != EnumErrorCode.SUCCESS:\n",
    "            print(\"bt\", bt.errorCode, bt.errorMessage)\n",
    "        else:\n",
    "            # print(bt.result.roi)\n",
    "            # print(bt.errorCode, bt.errorMessage)\n",
    "            return bt.result\n",
    "        \n",
    "\n",
    "\n"
   ]
  },
  {
   "cell_type": "markdown",
   "metadata": {},
   "source": [
    "Here we are creating interactive instance of interactiveBT class.\n",
    "\n",
    "TO STOP BACKTESTING, APPLY 1 1 1 to MACD parameters."
   ]
  },
  {
   "cell_type": "code",
   "execution_count": 31,
   "metadata": {},
   "outputs": [],
   "source": [
    "ibt = InteractiveBT()\n",
    "bot = ibt.return_edited_bot()\n",
    "results = []\n",
    "while True:\n",
    "    bot = ibt.monitor_bot(bot, ticks.widget.result)\n",
    "    results.append(bot)\n",
    "    if bot.macd['MacdFast'] == 1 and bot.macd['MacdSlow'] == 1 and bot.macd['MacdSign'] == 1:\n",
    "        break"
   ]
  },
  {
   "cell_type": "code",
   "execution_count": 32,
   "metadata": {
    "scrolled": true
   },
   "outputs": [
    {
     "name": "stdout",
     "output_type": "stream",
     "text": [
      "        ROI                                                Bot\n",
      "0   -0.1028  <haasomeapi.dataobjects.custombots.BaseCustomB...\n",
      "1   -0.1028  <haasomeapi.dataobjects.custombots.BaseCustomB...\n",
      "2   -0.1028  <haasomeapi.dataobjects.custombots.BaseCustomB...\n",
      "3   -0.1028  <haasomeapi.dataobjects.custombots.BaseCustomB...\n",
      "4   -0.1028  <haasomeapi.dataobjects.custombots.BaseCustomB...\n",
      "..      ...                                                ...\n",
      "128 -3.4327  <haasomeapi.dataobjects.custombots.BaseCustomB...\n",
      "129 -3.4327  <haasomeapi.dataobjects.custombots.BaseCustomB...\n",
      "130 -3.4327  <haasomeapi.dataobjects.custombots.BaseCustomB...\n",
      "131 -3.4327  <haasomeapi.dataobjects.custombots.BaseCustomB...\n",
      "132 -0.1016  <haasomeapi.dataobjects.custombots.BaseCustomB...\n",
      "\n",
      "[133 rows x 2 columns]\n",
      "<haasomeapi.dataobjects.custombots.BaseCustomBot.BaseCustomBot object at 0x117ce9610>\n"
     ]
    }
   ],
   "source": [
    "sortedresults = sorted(results,key=lambda x: x.roi, reverse=True)\n",
    "df = pd.DataFrame([{'ROI':b.roi,'Bot':b} for b in results]) \n",
    "# print(df)\n",
    "# print(df.iloc[0][1])\n",
    "df.sort_values(by='ROI',inplace=True)\n"
   ]
  },
  {
   "cell_type": "code",
   "execution_count": 34,
   "metadata": {},
   "outputs": [],
   "source": [
    "\n",
    "class BotDB:\n",
    "    def __init__(self):\n",
    "        self.c = self.cnt()\n",
    "\n",
    "    def cnt(self):\n",
    "        ip, secret = configserver.validateserverdata()\n",
    "        haasomeClient = HaasomeClient(ip, secret)\n",
    "        return haasomeClient\n",
    "\n",
    "    def csv_to_sellectionbox(self):\n",
    "        files = self.get_csv_files()\n",
    "\n",
    "        return files\n",
    "\n",
    "    def get_csv_files(self):\n",
    "        files =[]\n",
    "        for file in os.listdir('./'):\n",
    "            if file.endswith(\".csv\"):\n",
    "                files.append(os.path.join('./', file))\n",
    "\n",
    "\n",
    "        return files\n",
    "\n",
    "    def select_from_list(self,files):\n",
    "        for i, file in enumerate(files):\n",
    "                    print(i, file)\n",
    "        userinput = input('Type file number to select it:  ')\n",
    "        self.db_file = files[int(userinput)]\n",
    "        return files[int(userinput)]\n",
    "\n",
    "\n",
    "\n",
    "\n",
    "    def get_mh_bots(self):\n",
    "        all_bots = BotSellector().get_all_custom_bots() #getting all bots here\n",
    "        all_mh_bots = [x for x in all_bots if x.botType == 15] #sorting them to only Mad Hatter Bot(bot type 15 )\n",
    "        opts= [[x.name,x] for x in all_mh_bots] #making botlist with names\n",
    "        return opts\n",
    "\n",
    "\n",
    "    def setup_bot(self,bot,config): #calling it setup_bot. It checks each parameter against new config.\n",
    "            if bot.bBands[\"Length\"] != config.bBands['Length']: #if params differ - applies new one.\n",
    "                do = self.c.customBotApi.set_mad_hatter_indicator_parameter( #this way less api calls is being made\n",
    "                bot.guid,\n",
    "                EnumMadHatterIndicators.BBANDS,\n",
    "                0,\n",
    "                    config.bBands['Length']\n",
    "            )\n",
    "\n",
    "            if bot.bBands[\"Devup\"] != config.bBands['Devup']:\n",
    "                do = self.c.customBotApi.set_mad_hatter_indicator_parameter(\n",
    "                    bot.guid,\n",
    "                    EnumMadHatterIndicators.BBANDS,\n",
    "                    1,\n",
    "                    config.bBands['Devup'],\n",
    "                )\n",
    "\n",
    "\n",
    "            if bot.bBands[\"Devdn\"] != config.bBands['Devdn']:\n",
    "                do = self.c.customBotApi.set_mad_hatter_indicator_parameter(\n",
    "                bot.guid,\n",
    "                EnumMadHatterIndicators.BBANDS,\n",
    "                2,\n",
    "                config.bBands['Devdn'],\n",
    "                )\n",
    "\n",
    "\n",
    "            if bot.bBands[\"MaType\"] != config.bBands['MaType']:\n",
    "                do = self.c.customBotApi.set_mad_hatter_indicator_parameter(\n",
    "                bot.guid,\n",
    "                EnumMadHatterIndicators.BBANDS,\n",
    "                3,\n",
    "                config.bBands['MaType'],\n",
    "                )\n",
    "\n",
    "\n",
    "            if bot.bBands[\"AllowMidSell\"] != config.bBands['AllowMidSell']:\n",
    "                do = self.c.customBotApi.set_mad_hatter_indicator_parameter(\n",
    "                bot.guid,\n",
    "                EnumMadHatterIndicators.BBANDS,\n",
    "                5,\n",
    "                config.bBands['AllowMidSell'],\n",
    "                )\n",
    "\n",
    "\n",
    "            if bot.bBands[\"RequireFcc\"] != config.bBands['RequireFcc']:\n",
    "                do = self.c.customBotApi.set_mad_hatter_indicator_parameter(\n",
    "                bot.guid,\n",
    "                EnumMadHatterIndicators.BBANDS,\n",
    "                6,\n",
    "                config.bBands['RequireFcc'],\n",
    "                )\n",
    "\n",
    "\n",
    "            if bot.rsi[\"RsiLength\"] != config.rsi['RsiLength']:\n",
    "                do = self.c.customBotApi.set_mad_hatter_indicator_parameter(\n",
    "                bot.guid,\n",
    "                EnumMadHatterIndicators.RSI,\n",
    "                0,\n",
    "                config.rsi['RsiLength'],\n",
    "                )\n",
    "\n",
    "\n",
    "            if bot.rsi[\"RsiOverbought\"] != config.rsi['RsiOverbought']:\n",
    "                do = self.c.customBotApi.set_mad_hatter_indicator_parameter(\n",
    "                bot.guid,\n",
    "                EnumMadHatterIndicators.RSI,\n",
    "                1,\n",
    "                config.rsi['RsiOverbought'],\n",
    "                )\n",
    "\n",
    "\n",
    "            if bot.rsi[\"RsiOversold\"] != config.rsi['RsiOversold']:\n",
    "                do = self.c.customBotApi.set_mad_hatter_indicator_parameter(\n",
    "                bot.guid,\n",
    "                EnumMadHatterIndicators.RSI,\n",
    "                2,\n",
    "                config.rsi['RsiOversold'],           )\n",
    "\n",
    "\n",
    "            if bot.macd[\"MacdFast\"] != config.macd['MacdFast']:\n",
    "                do = self.c.customBotApi.set_mad_hatter_indicator_parameter(\n",
    "                bot.guid,\n",
    "                EnumMadHatterIndicators.MACD,\n",
    "                0,\n",
    "                config.macd['MacdFast'],\n",
    "                )\n",
    "\n",
    "            if bot.macd[\"MacdSlow\"] != config.macd['MacdSlow']:\n",
    "                do = self.c.customBotApi.set_mad_hatter_indicator_parameter(\n",
    "                bot.guid,\n",
    "                EnumMadHatterIndicators.MACD,\n",
    "                1,\n",
    "                config.macd['MacdSlow'],\n",
    "                )\n",
    "\n",
    "\n",
    "            if bot.macd[\"MacdSign\"] != config.macd['MacdSign']:\n",
    "                do = self.c.customBotApi.set_mad_hatter_indicator_parameter(\n",
    "                bot.guid,\n",
    "                EnumMadHatterIndicators.MACD,\n",
    "                2,\n",
    "                config.macd['MacdSign'],\n",
    "                )\n",
    "\n",
    "                                                                        #Indicator parameters have been set\n",
    "\n",
    "\n",
    "            if bot.interval != config.interval:\n",
    "                setup_bot = self.c.customBotApi.setup_mad_hatter_bot( # This code sets time interval as main goalj\n",
    "                botName = bot.name,\n",
    "                botGuid=bot.guid,\n",
    "                accountGuid=bot.accountId,\n",
    "                primaryCoin=bot.priceMarket.primaryCurrency,\n",
    "                secondaryCoin=bot.priceMarket.secondaryCurrency,\n",
    "                contractName=bot.priceMarket.contractName,\n",
    "                leverage=bot.leverage,\n",
    "                templateGuid=bot.customTemplate,\n",
    "                position=bot.coinPosition,\n",
    "                fee=bot.currentFeePercentage,\n",
    "                tradeAmountType=bot.amountType,\n",
    "                tradeAmount=bot.currentTradeAmount,\n",
    "                useconsensus=bot.useTwoSignals,\n",
    "                disableAfterStopLoss=bot.disableAfterStopLoss,\n",
    "                interval=config.interval,\n",
    "                includeIncompleteInterval=bot.includeIncompleteInterval,\n",
    "                mappedBuySignal=bot.mappedBuySignal,\n",
    "                mappedSellSignal=bot.mappedSellSignal,).result\n",
    "\n",
    "\n",
    "            print(bot.name,' Has been configured')\n",
    "\n",
    "\n",
    "    def calculate_ticks(start_date,end_date):\n",
    "        diff = end_date-start_date\n",
    "        secs = diff.total_seconds()/60\n",
    "        return int(secs)\n",
    "    @lru_cache(maxsize=None)\n",
    "    def bt_bot(self,bot,depth):\n",
    "        bt = self.c.customBotApi.backtest_custom_bot(\n",
    "  \n",
    "                    bot.guid,\n",
    "                    int(depth))\n",
    " \n",
    "        print(bt.result.roi)\n",
    "        return bt.result\n",
    "\n",
    "\n",
    "    "
   ]
  },
  {
   "cell_type": "markdown",
   "metadata": {},
   "source": [
    "\n",
    "bot = BotDB().bt_bot(df.iloc[0][1],ticks.widget.result)\n",
    "bd = BotDB()\n",
    "setup = bd.setup_bot(bot,df.iloc[0][1])"
   ]
  },
  {
   "cell_type": "code",
   "execution_count": null,
   "metadata": {},
   "outputs": [],
   "source": [
    "Now, int he next cell is where you can select bot configuration by its roi and apply it to the bot"
   ]
  },
  {
   "cell_type": "code",
   "execution_count": 36,
   "metadata": {},
   "outputs": [
    {
     "data": {
      "application/vnd.jupyter.widget-view+json": {
       "model_id": "f28d6237f7e148aa982f673f7fa646d1",
       "version_major": 2,
       "version_minor": 0
      },
      "text/plain": [
       "Dropdown(description='Botlist', options=([-0.1028, <haasomeapi.dataobjects.custombots.BaseCustomBot.BaseCustom…"
      ]
     },
     "metadata": {},
     "output_type": "display_data"
    }
   ],
   "source": [
    "\n",
    "    \n",
    "\n",
    "botsellector = widgets.Dropdown(#Making dropdown out of it\n",
    "    options= [[x.roi,x] for x in results],\n",
    "    value=[x for x in results][0],\n",
    "    description='Botlist',\n",
    "    disabled=False,\n",
    ")\n",
    "display(botsellector) #displaying dropdown list here"
   ]
  },
  {
   "cell_type": "code",
   "execution_count": 37,
   "metadata": {},
   "outputs": [
    {
     "name": "stdout",
     "output_type": "stream",
     "text": [
      "0.0\n",
      "4  Has been configured\n",
      "-4.8162\n"
     ]
    }
   ],
   "source": [
    "bot = BotDB().bt_bot(botsellector.value,1)\n",
    "setup = bd.setup_bot(bot,botsellector.value)\n",
    "bot = BotDB().bt_bot(botsellector.value,ticks.widget.result)"
   ]
  },
  {
   "cell_type": "code",
   "execution_count": null,
   "metadata": {},
   "outputs": [],
   "source": []
  },
  {
   "cell_type": "code",
   "execution_count": null,
   "metadata": {},
   "outputs": [],
   "source": []
  }
 ],
 "metadata": {
  "kernelspec": {
   "display_name": "Python 3",
   "language": "python",
   "name": "python3"
  },
  "language_info": {
   "codemirror_mode": {
    "name": "ipython",
    "version": 3
   },
   "file_extension": ".py",
   "mimetype": "text/x-python",
   "name": "python",
   "nbconvert_exporter": "python",
   "pygments_lexer": "ipython3",
   "version": "3.7.7"
  }
 },
 "nbformat": 4,
 "nbformat_minor": 2
}
