{
 "cells": [
  {
   "cell_type": "code",
   "execution_count": 29,
   "metadata": {},
   "outputs": [
    {
     "name": "stdout",
     "output_type": "stream",
     "text": [
      "                              T     open     high      low    close  \\\n",
      "2020-05-01 16:54:00  1588352040  8751.37  8759.96  8748.02  8750.00   \n",
      "2020-05-01 16:53:00  1588351980  8760.16  8765.13  8747.45  8751.37   \n",
      "2020-05-01 16:52:00  1588351920  8753.71  8762.00  8736.14  8759.71   \n",
      "2020-05-01 16:51:00  1588351860  8744.43  8758.29  8737.00  8753.71   \n",
      "2020-05-01 16:50:00  1588351800  8741.09  8745.00  8737.00  8744.41   \n",
      "...                         ...      ...      ...      ...      ...   \n",
      "2020-05-01 08:39:00  1588322340  8759.24  8759.87  8752.02  8757.31   \n",
      "2020-05-01 08:38:00  1588322280  8765.42  8766.73  8756.31  8759.25   \n",
      "2020-05-01 08:37:00  1588322220  8771.03  8774.99  8765.00  8765.07   \n",
      "2020-05-01 08:36:00  1588322160  8768.58  8771.79  8767.47  8770.99   \n",
      "2020-05-01 08:35:00  1588322100  8767.01  8772.83  8765.72  8768.58   \n",
      "\n",
      "                         volume        B        S  \n",
      "2020-05-01 16:54:00   26.761017  8750.01  8750.00  \n",
      "2020-05-01 16:53:00   76.132971  8751.44  8751.36  \n",
      "2020-05-01 16:52:00   95.305387  8760.14  8759.56  \n",
      "2020-05-01 16:51:00  211.071320  8752.85  8752.01  \n",
      "2020-05-01 16:50:00   72.078033  8744.85  8743.98  \n",
      "...                         ...      ...      ...  \n",
      "2020-05-01 08:39:00   13.529755  8757.24  8756.86  \n",
      "2020-05-01 08:38:00   19.046759  8759.25  8759.24  \n",
      "2020-05-01 08:37:00   16.975732  8763.90  8763.51  \n",
      "2020-05-01 08:36:00   12.992478  8771.33  8771.03  \n",
      "2020-05-01 08:35:00   10.554822  8768.98  8768.58  \n",
      "\n",
      "[500 rows x 8 columns]\n",
      "{'_minperiod': 15, '_series': 2020-05-01 16:54:00          NaN\n",
      "2020-05-01 16:53:00          NaN\n",
      "2020-05-01 16:52:00          NaN\n",
      "2020-05-01 16:51:00          NaN\n",
      "2020-05-01 16:50:00          NaN\n",
      "                         ...    \n",
      "2020-05-01 08:39:00   -63.704853\n",
      "2020-05-01 08:38:00   -54.736372\n",
      "2020-05-01 08:37:00   -37.447906\n",
      "2020-05-01 08:36:00   -32.809204\n",
      "2020-05-01 08:35:00   -28.924949\n",
      "Length: 500, dtype: float64, '_name': 'cmo'}\n"
     ]
    }
   ],
   "source": [
    "import btalib\n",
    "import pandas as pd\n",
    "from MarketDataClass import MarketData\n",
    "md = MarketData()\n",
    "market_data = md.get_ticks('BINANCE','BTC', 'USDT',1,'LASTTICKS')\n",
    "\n",
    "indicators = btalib.indicator.get_indicators()\n",
    "# for i in indicators[0:20]:\n",
    "#     print(i(market_data))\n",
    "\n",
    "cci = indicators[18](market_data)\n",
    "# print([i for i in cci.outputs[0]])\n",
    "# help(cci)\n",
    "for i in cci:\n",
    "     print(i.__dict__)\n",
    "   "
   ]
  },
  {
   "cell_type": "code",
   "execution_count": 27,
   "metadata": {},
   "outputs": [
    {
     "name": "stdout",
     "output_type": "stream",
     "text": [
      "[['ACOS', <class 'btalib.indicators.math.acos'>], ['AD', <class 'btalib.indicators.ad.ad'>], ['ADD', <class 'btalib.indicators.mathop.add'>], ['ADOSC', <class 'btalib.indicators.ad.adosc'>], ['ADX', <class 'btalib.indicators.directionalmove.adx'>], ['ADXR', <class 'btalib.indicators.directionalmove.adxr'>], ['APO', <class 'btalib.indicators.ppo.apo'>], ['AROON', <class 'btalib.indicators.aroon.aroon'>], ['AROONOSC', <class 'btalib.indicators.aroon.aroonosc'>], ['ASIN', <class 'btalib.indicators.math.asin'>], ['ATAN', <class 'btalib.indicators.math.atan'>], ['ATR', <class 'btalib.indicators.atr.atr'>], ['AvgPrice', <class 'btalib.indicators.price.avgprice'>], ['BBANDS', <class 'btalib.indicators.bbands.bbands'>], ['BETA', <class 'btalib.indicators.beta.beta'>], ['BOP', <class 'btalib.indicators.bop.bop'>], ['CCI', <class 'btalib.indicators.cci.cci'>], ['CEIL', <class 'btalib.indicators.math.ceil'>], ['CMO', <class 'btalib.indicators.cmo.cmo'>], ['CORREL', <class 'btalib.indicators.correl.correl'>], ['COS', <class 'btalib.indicators.math.cos'>], ['COSH', <class 'btalib.indicators.math.cosh'>], ['CrossDown', <class 'btalib.indicators.crossover.crossdown'>], ['CrossOver', <class 'btalib.indicators.crossover.crossover'>], ['CrossUp', <class 'btalib.indicators.crossover.crossup'>], ['DEMA', <class 'btalib.indicators.dema.dema'>], ['DI', <class 'btalib.indicators.directionalmove.di'>], ['DIV', <class 'btalib.indicators.mathop.div'>], ['DM', <class 'btalib.indicators.directionalmove.dm'>], ['DX', <class 'btalib.indicators.directionalmove.dx'>], ['EMA', <class 'btalib.indicators.ema.ema'>], ['EWMA', <class 'btalib.indicators.ewma.ewma'>], ['EXP', <class 'btalib.indicators.math.exp'>], ['FLOOR', <class 'btalib.indicators.math.floor'>], ['gd', <class 'btalib.indicators.t3.gdema'>], ['HT_DCPERIOD', <class 'btalib.indicators.ht_dcperiod.ht_dcperiod'>], ['HT_DCPHASE', <class 'btalib.indicators.ht_dcphase.ht_dcphase'>], ['HT_PHASOR', <class 'btalib.indicators.ht_phasor.ht_phasor'>], ['HT_SINE', <class 'btalib.indicators.ht_sine.ht_sine'>], ['HT_TRENDLINE', <class 'btalib.indicators.ht_trendline.ht_trendline'>], ['HT_TRENDMODE', <class 'btalib.indicators.ht_trendmode.ht_trendmode'>], ['KAMA', <class 'btalib.indicators.kama.kama'>], ['LINEARREG', <class 'btalib.indicators.linreg.linearreg'>], ['LINEARREG_ANGLE', <class 'btalib.indicators.linreg.linearreg_angle'>], ['LINEARREG_INTERCEPT', <class 'btalib.indicators.linreg.linearreg_intercept'>], ['LINEARREG_SLOPE', <class 'btalib.indicators.linreg.linearreg_slope'>], ['LN', <class 'btalib.indicators.math.ln'>], ['LOG10', <class 'btalib.indicators.math.log10'>], ['MACD', <class 'btalib.indicators.macd.macd'>], ['MAD', <class 'btalib.indicators.madev.mad'>], ['MAMA', <class 'btalib.indicators.mama.mama'>], ['MAVP', <class 'btalib.indicators.mavp.mavp'>], ['highest', <class 'btalib.indicators.mathop.max'>], ['MAXINDEX', <class 'btalib.indicators.mathop.maxindex'>], ['WCLPrice', <class 'btalib.indicators.price.medprice'>], ['MFI', <class 'btalib.indicators.mfi.mfi'>], ['MIDPOINT', <class 'btalib.indicators.midpoint.midpoint'>], ['MIDPRICE', <class 'btalib.indicators.midpoint.midprice'>], ['lowest', <class 'btalib.indicators.mathop.min'>], ['MININDEX', <class 'btalib.indicators.mathop.minindex'>], ['MINMAX', <class 'btalib.indicators.mathop.minmax'>], ['MINMAXINDEX', <class 'btalib.indicators.mathop.minmaxindex'>], ['MINUS_DI', <class 'btalib.indicators.directionalmove.minus_di'>], ['MINUS_DM', <class 'btalib.indicators.directionalmove.minus_dm'>], ['momentum', <class 'btalib.indicators.mom.mom'>], ['MULT', <class 'btalib.indicators.mathop.mult'>], ['NATR', <class 'btalib.indicators.atr.natr'>], ['OBV', <class 'btalib.indicators.obv.obv'>], ['PLUS_DI', <class 'btalib.indicators.directionalmove.plus_di'>], ['PLUS_DM', <class 'btalib.indicators.directionalmove.plus_dm'>], ['PPO', <class 'btalib.indicators.ppo.ppo'>], ['PPOFast', <class 'btalib.indicators.ppo.ppofast'>], ['rateofchange', <class 'btalib.indicators.roc.roc'>], ['ROCP', <class 'btalib.indicators.roc.rocp'>], ['ROCR', <class 'btalib.indicators.roc.rocr'>], ['ROCR100', <class 'btalib.indicators.roc.rocr100'>], ['RSI', <class 'btalib.indicators.rsi.rsi'>], ['SAR', <class 'btalib.indicators.sar.sar'>], ['SAR', <class 'btalib.indicators.sarext.sarext'>], ['SIN', <class 'btalib.indicators.math.sin'>], ['SINH', <class 'btalib.indicators.math.sinh'>], ['SMA', <class 'btalib.indicators.sma.sma'>], ['WildersSmoothedAccmulation', <class 'btalib.indicators.directionalmove.smacc'>], ['SMMA', <class 'btalib.indicators.smma.smma'>], ['SQRT', <class 'btalib.indicators.math.sqrt'>], ['StdDev', <class 'btalib.indicators.stddev.stddev'>], ['stddev_sample', <class 'btalib.indicators.stddev.stddev_s'>], ['stoch', <class 'btalib.indicators.stochastic.stochastic'>], ['stochfast', <class 'btalib.indicators.stochastic.stochf'>], ['StochRsi', <class 'btalib.indicators.stochrsi.stochrsi'>], ['SUB', <class 'btalib.indicators.mathop.sub'>], ['sumn', <class 'btalib.indicators.mathop.sum'>], ['T3', <class 'btalib.indicators.t3.t3'>], ['TAN', <class 'btalib.indicators.math.tan'>], ['TANH', <class 'btalib.indicators.math.tanh'>], ['TEMA', <class 'btalib.indicators.tema.tema'>], ['TRIMA', <class 'btalib.indicators.trima.trima'>], ['Trix', <class 'btalib.indicators.trix.trix'>], ['TR', <class 'btalib.indicators.atr.truehigh'>], ['TR', <class 'btalib.indicators.atr.truelow'>], ['TR', <class 'btalib.indicators.atr.truerange'>], ['TSF', <class 'btalib.indicators.linreg.tsf'>], ['typicalprice', <class 'btalib.indicators.price.typprice'>], ['ultosc', <class 'btalib.indicators.ultimateoscillator.ultimateoscillator'>], ['VAR', <class 'btalib.indicators.var.var'>], ['varsample', <class 'btalib.indicators.var.var_s'>], ['WCLPrice', <class 'btalib.indicators.price.wclprice'>], ['willr', <class 'btalib.indicators.williamsr.williamsr'>], ['WMA', <class 'btalib.indicators.wma.wma'>]]\n"
     ]
    }
   ],
   "source": [
    "indicatorss = [[i.alias[0],i] for i in indicators]\n",
    "print(indicatorss)\n",
    "# for ii,i in enumerate(indicators):\n",
    "#     print(ii,i.alias[-1])"
   ]
  }
 ],
 "metadata": {
  "kernelspec": {
   "display_name": "Python 3.7.5 64-bit ('.env': virtualenv)",
   "language": "python",
   "name": "python37564bitenvvirtualenv5bb4191721d4474aa7864bf4c502cc6f"
  },
  "language_info": {
   "codemirror_mode": {
    "name": "ipython",
    "version": 3
   },
   "file_extension": ".py",
   "mimetype": "text/x-python",
   "name": "python",
   "nbconvert_exporter": "python",
   "pygments_lexer": "ipython3",
   "version": "3.7.5"
  }
 },
 "nbformat": 4,
 "nbformat_minor": 2
}
